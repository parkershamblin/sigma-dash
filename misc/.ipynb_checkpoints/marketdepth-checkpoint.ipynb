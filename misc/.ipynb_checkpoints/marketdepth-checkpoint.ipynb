{
 "cells": [
  {
   "cell_type": "code",
   "execution_count": 1,
   "metadata": {},
   "outputs": [],
   "source": [
    "from bitmex_websocket import BitMEXWebsocket\n",
    "import pandas as pd\n",
    "import matplotlib.pyplot as plt\n",
    "%matplotlib inline"
   ]
  },
  {
   "cell_type": "code",
   "execution_count": 2,
   "metadata": {},
   "outputs": [],
   "source": [
    "ws = BitMEXWebsocket(endpoint=\"https://testnet.bitmex.com/api/v1\", symbol='XBTUSD', api_key=\"9AyrVqTa4HROjUq3FZfIK-p_\", api_secret=\"EInjEO0WPdasTM4ne7RHN5Q8aBQ-O6HwhFnY3olm7_LKvSNa\")"
   ]
  },
  {
   "cell_type": "code",
   "execution_count": 3,
   "metadata": {},
   "outputs": [],
   "source": [
    "df = pd.DataFrame(ws.market_depth())"
   ]
  },
  {
   "cell_type": "code",
   "execution_count": 4,
   "metadata": {},
   "outputs": [
    {
     "data": {
      "text/html": [
       "<div>\n",
       "<style scoped>\n",
       "    .dataframe tbody tr th:only-of-type {\n",
       "        vertical-align: middle;\n",
       "    }\n",
       "\n",
       "    .dataframe tbody tr th {\n",
       "        vertical-align: top;\n",
       "    }\n",
       "\n",
       "    .dataframe thead th {\n",
       "        text-align: right;\n",
       "    }\n",
       "</style>\n",
       "<table border=\"1\" class=\"dataframe\">\n",
       "  <thead>\n",
       "    <tr style=\"text-align: right;\">\n",
       "      <th></th>\n",
       "      <th>symbol</th>\n",
       "      <th>id</th>\n",
       "      <th>side</th>\n",
       "      <th>size</th>\n",
       "      <th>price</th>\n",
       "    </tr>\n",
       "  </thead>\n",
       "  <tbody>\n",
       "    <tr>\n",
       "      <th>0</th>\n",
       "      <td>XBTUSD</td>\n",
       "      <td>15500000000</td>\n",
       "      <td>Sell</td>\n",
       "      <td>1003</td>\n",
       "      <td>1000000.0</td>\n",
       "    </tr>\n",
       "    <tr>\n",
       "      <th>1</th>\n",
       "      <td>XBTUSD</td>\n",
       "      <td>15500000100</td>\n",
       "      <td>Sell</td>\n",
       "      <td>100001</td>\n",
       "      <td>999999.0</td>\n",
       "    </tr>\n",
       "    <tr>\n",
       "      <th>2</th>\n",
       "      <td>XBTUSD</td>\n",
       "      <td>15502119900</td>\n",
       "      <td>Sell</td>\n",
       "      <td>5000</td>\n",
       "      <td>978801.0</td>\n",
       "    </tr>\n",
       "    <tr>\n",
       "      <th>3</th>\n",
       "      <td>XBTUSD</td>\n",
       "      <td>15504648350</td>\n",
       "      <td>Sell</td>\n",
       "      <td>2191000</td>\n",
       "      <td>953516.5</td>\n",
       "    </tr>\n",
       "    <tr>\n",
       "      <th>4</th>\n",
       "      <td>XBTUSD</td>\n",
       "      <td>15515440800</td>\n",
       "      <td>Sell</td>\n",
       "      <td>300</td>\n",
       "      <td>845592.0</td>\n",
       "    </tr>\n",
       "  </tbody>\n",
       "</table>\n",
       "</div>"
      ],
      "text/plain": [
       "   symbol           id  side     size      price\n",
       "0  XBTUSD  15500000000  Sell     1003  1000000.0\n",
       "1  XBTUSD  15500000100  Sell   100001   999999.0\n",
       "2  XBTUSD  15502119900  Sell     5000   978801.0\n",
       "3  XBTUSD  15504648350  Sell  2191000   953516.5\n",
       "4  XBTUSD  15515440800  Sell      300   845592.0"
      ]
     },
     "execution_count": 4,
     "metadata": {},
     "output_type": "execute_result"
    }
   ],
   "source": [
    "df.head()"
   ]
  },
  {
   "cell_type": "code",
   "execution_count": 5,
   "metadata": {},
   "outputs": [
    {
     "data": {
      "text/plain": [
       "(2007, 5)"
      ]
     },
     "execution_count": 5,
     "metadata": {},
     "output_type": "execute_result"
    }
   ],
   "source": [
    "df.shape"
   ]
  },
  {
   "cell_type": "code",
   "execution_count": 6,
   "metadata": {},
   "outputs": [],
   "source": [
    "def request_history(symbol, interval_mins=60, load_periods=500):\n",
    "    from time import time\n",
    "    import requests\n",
    "    import numpy as np\n",
    "    import pandas as pd\n",
    "    # TODO Allow user to input start and end date.\n",
    "    # Do calculation to caculate num of load_periods needed for date range.\n",
    "    \n",
    "    end_t = int(time()) + 120*interval_mins\n",
    "    end_t -= end_t % (60*interval_mins)\n",
    "    start_t = end_t - load_periods*60*interval_mins\n",
    "\n",
    "    baseurl = 'https://www.bitmex.com/api'\n",
    "    url = baseurl + f'/udf/history?symbol={symbol}&resolution={interval_mins}&from={start_t}&to={end_t}'\n",
    "    req = requests.get(url).json()\n",
    "\n",
    "    df = pd.DataFrame(req)\n",
    "    # rename headers to something more explicitive\n",
    "    df.rename({'t': 'date', 'c': 'close', 'o': 'open', 'h': 'high', 'l': 'low', 'v': 'volume'}, axis=1, inplace=True)\n",
    "    # convert date column from unix time to datetime object\n",
    "    df['date'] = pd.to_datetime(df['date'], origin='unix', unit='s')\n",
    "    # add colors to customize volume bar chart\n",
    "    df['color'] = np.where(df['close'] > df['open'], 'green', 'red')\n",
    "    # convert index to datetime object\n",
    "    df.index = df['date']\n",
    "\n",
    "    return df"
   ]
  },
  {
   "cell_type": "code",
   "execution_count": 7,
   "metadata": {},
   "outputs": [
    {
     "name": "stdout",
     "output_type": "stream",
     "text": [
      "9328.5\n"
     ]
    }
   ],
   "source": [
    "current_price = request_history(symbol='XBTUSD', interval_mins=1, load_periods=1)['close'].iloc[0]\n",
    "print(current_price)"
   ]
  },
  {
   "cell_type": "code",
   "execution_count": 8,
   "metadata": {},
   "outputs": [],
   "source": [
    "lower_bound = current_price * 0.99\n",
    "upper_bound = current_price * 1.01"
   ]
  },
  {
   "cell_type": "code",
   "execution_count": 9,
   "metadata": {},
   "outputs": [],
   "source": [
    "df = df.loc[(df.price > lower_bound) & (df.price < upper_bound)]"
   ]
  },
  {
   "cell_type": "code",
   "execution_count": 10,
   "metadata": {},
   "outputs": [
    {
     "data": {
      "text/plain": [
       "(285, 5)"
      ]
     },
     "execution_count": 10,
     "metadata": {},
     "output_type": "execute_result"
    }
   ],
   "source": [
    "df.shape"
   ]
  },
  {
   "cell_type": "code",
   "execution_count": 11,
   "metadata": {},
   "outputs": [
    {
     "data": {
      "text/plain": [
       "<matplotlib.axes._subplots.AxesSubplot at 0x1d25c6d4160>"
      ]
     },
     "execution_count": 11,
     "metadata": {},
     "output_type": "execute_result"
    },
    {
     "data": {
      "image/png": "[encoded data removed]",
      "text/plain": [
       "<Figure size 432x288 with 1 Axes>"
      ]
     },
     "metadata": {
      "needs_background": "light"
     },
     "output_type": "display_data"
    }
   ],
   "source": [
    "df.plot(kind='line', x='price', y='size')"
   ]
  },
  {
   "cell_type": "code",
   "execution_count": 12,
   "metadata": {},
   "outputs": [
    {
     "data": {
      "image/png": "[encoded data removed]",
      "text/plain": [
       "<Figure size 432x288 with 1 Axes>"
      ]
     },
     "metadata": {
      "needs_background": "light"
     },
     "output_type": "display_data"
    }
   ],
   "source": [
    "bins=[n for n in range(int(lower_bound), int(upper_bound), 10)]\n",
    "\n",
    "lower_df = df.loc[df.price < current_price].price\n",
    "upper_df = df.loc[df.price > current_price].price\n",
    "\n",
    "plt.hist([lower_df, upper_df], bins=bins, edgecolor=\"k\", color=['red', 'green'])\n",
    "plt.xticks(bins[::5])  # display every 5th tick on x-axis\n",
    "plt.show()"
   ]
  },
  {
   "cell_type": "code",
   "execution_count": 13,
   "metadata": {},
   "outputs": [
    {
     "data": {
      "text/plain": [
       "<matplotlib.axes._subplots.AxesSubplot at 0x1d25c87b970>"
      ]
     },
     "execution_count": 13,
     "metadata": {},
     "output_type": "execute_result"
    },
    {
     "data": {
      "image/png": "[encoded data removed]",
      "text/plain": [
       "<Figure size 432x288 with 1 Axes>"
      ]
     },
     "metadata": {
      "needs_background": "light"
     },
     "output_type": "display_data"
    }
   ],
   "source": [
    "groups = df.groupby([pd.cut(df.price, bins)])['size'].sum()\n",
    "groups.plot(kind='bar')"
   ]
  }
 ],
 "metadata": {
  "kernelspec": {
   "display_name": "Python 3",
   "language": "python",
   "name": "python3"
  },
  "language_info": {
   "codemirror_mode": {
    "name": "ipython",
    "version": 3
   },
   "file_extension": ".py",
   "mimetype": "text/x-python",
   "name": "python",
   "nbconvert_exporter": "python",
   "pygments_lexer": "ipython3",
   "version": "3.8.3"
  }
 },
 "nbformat": 4,
 "nbformat_minor": 4
}
